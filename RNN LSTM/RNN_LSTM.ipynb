{
 "cells": [
  {
   "cell_type": "code",
   "execution_count": 1,
   "id": "ca06fd29",
   "metadata": {},
   "outputs": [
    {
     "name": "stdout",
     "output_type": "stream",
     "text": [
      "Requirement already satisfied: keras in c:\\users\\user\\anaconda3\\lib\\site-packages (2.7.0)\n",
      "Note: you may need to restart the kernel to use updated packages.\n"
     ]
    }
   ],
   "source": [
    "pip install keras"
   ]
  },
  {
   "cell_type": "code",
   "execution_count": 2,
   "id": "3f8b4a0a",
   "metadata": {},
   "outputs": [
    {
     "name": "stdout",
     "output_type": "stream",
     "text": [
      "Requirement already satisfied: tensorflow in c:\\users\\user\\anaconda3\\lib\\site-packages (2.3.0)\n",
      "Requirement already satisfied: keras-preprocessing<1.2,>=1.1.1 in c:\\users\\user\\anaconda3\\lib\\site-packages (from tensorflow) (1.1.2)\n",
      "Requirement already satisfied: google-pasta>=0.1.8 in c:\\users\\user\\anaconda3\\lib\\site-packages (from tensorflow) (0.2.0)\n",
      "Requirement already satisfied: wrapt>=1.11.1 in c:\\users\\user\\anaconda3\\lib\\site-packages (from tensorflow) (1.12.1)\n",
      "Requirement already satisfied: h5py<2.11.0,>=2.10.0 in c:\\users\\user\\anaconda3\\lib\\site-packages (from tensorflow) (2.10.0)\n",
      "Requirement already satisfied: absl-py>=0.7.0 in c:\\users\\user\\anaconda3\\lib\\site-packages (from tensorflow) (1.0.0)\n",
      "Requirement already satisfied: protobuf>=3.9.2 in c:\\users\\user\\anaconda3\\lib\\site-packages (from tensorflow) (3.18.0)\n",
      "Requirement already satisfied: grpcio>=1.8.6 in c:\\users\\user\\anaconda3\\lib\\site-packages (from tensorflow) (1.38.1)\n",
      "Requirement already satisfied: numpy<1.19.0,>=1.16.0 in c:\\users\\user\\anaconda3\\lib\\site-packages (from tensorflow) (1.18.5)\n",
      "Requirement already satisfied: gast==0.3.3 in c:\\users\\user\\anaconda3\\lib\\site-packages (from tensorflow) (0.3.3)\n",
      "Requirement already satisfied: tensorflow-estimator<2.4.0,>=2.3.0 in c:\\users\\user\\anaconda3\\lib\\site-packages (from tensorflow) (2.3.0)\n",
      "Requirement already satisfied: astunparse==1.6.3 in c:\\users\\user\\anaconda3\\lib\\site-packages (from tensorflow) (1.6.3)\n",
      "Requirement already satisfied: wheel>=0.26 in c:\\users\\user\\anaconda3\\lib\\site-packages (from tensorflow) (0.36.2)\n",
      "Requirement already satisfied: six>=1.12.0 in c:\\users\\user\\anaconda3\\lib\\site-packages (from tensorflow) (1.15.0)\n",
      "Requirement already satisfied: tensorboard<3,>=2.3.0 in c:\\users\\user\\anaconda3\\lib\\site-packages (from tensorflow) (2.7.0)\n",
      "Requirement already satisfied: opt-einsum>=2.3.2 in c:\\users\\user\\anaconda3\\lib\\site-packages (from tensorflow) (3.3.0)\n",
      "Requirement already satisfied: scipy==1.4.1 in c:\\users\\user\\anaconda3\\lib\\site-packages (from tensorflow) (1.4.1)\n",
      "Requirement already satisfied: termcolor>=1.1.0 in c:\\users\\user\\anaconda3\\lib\\site-packages (from tensorflow) (1.1.0)\n",
      "Requirement already satisfied: werkzeug>=0.11.15 in c:\\users\\user\\anaconda3\\lib\\site-packages (from tensorboard<3,>=2.3.0->tensorflow) (1.0.1)\n",
      "Requirement already satisfied: google-auth-oauthlib<0.5,>=0.4.1 in c:\\users\\user\\anaconda3\\lib\\site-packages (from tensorboard<3,>=2.3.0->tensorflow) (0.4.6)\n",
      "Requirement already satisfied: tensorboard-data-server<0.7.0,>=0.6.0 in c:\\users\\user\\anaconda3\\lib\\site-packages (from tensorboard<3,>=2.3.0->tensorflow) (0.6.0)\n",
      "Requirement already satisfied: requests<3,>=2.21.0 in c:\\users\\user\\anaconda3\\lib\\site-packages (from tensorboard<3,>=2.3.0->tensorflow) (2.25.1)\n",
      "Requirement already satisfied: tensorboard-plugin-wit>=1.6.0 in c:\\users\\user\\anaconda3\\lib\\site-packages (from tensorboard<3,>=2.3.0->tensorflow) (1.8.0)\n",
      "Requirement already satisfied: setuptools>=41.0.0 in c:\\users\\user\\anaconda3\\lib\\site-packages (from tensorboard<3,>=2.3.0->tensorflow) (52.0.0.post20210125)\n",
      "Requirement already satisfied: google-auth<3,>=1.6.3 in c:\\users\\user\\anaconda3\\lib\\site-packages (from tensorboard<3,>=2.3.0->tensorflow) (1.21.3)\n",
      "Requirement already satisfied: markdown>=2.6.8 in c:\\users\\user\\anaconda3\\lib\\site-packages (from tensorboard<3,>=2.3.0->tensorflow) (3.3.4)\n",
      "Requirement already satisfied: rsa<5,>=3.1.4 in c:\\users\\user\\anaconda3\\lib\\site-packages (from google-auth<3,>=1.6.3->tensorboard<3,>=2.3.0->tensorflow) (4.8)\n",
      "Requirement already satisfied: pyasn1-modules>=0.2.1 in c:\\users\\user\\anaconda3\\lib\\site-packages (from google-auth<3,>=1.6.3->tensorboard<3,>=2.3.0->tensorflow) (0.2.7)\n",
      "Requirement already satisfied: cachetools<5.0,>=2.0.0 in c:\\users\\user\\anaconda3\\lib\\site-packages (from google-auth<3,>=1.6.3->tensorboard<3,>=2.3.0->tensorflow) (4.2.4)\n",
      "Requirement already satisfied: requests-oauthlib>=0.7.0 in c:\\users\\user\\anaconda3\\lib\\site-packages (from google-auth-oauthlib<0.5,>=0.4.1->tensorboard<3,>=2.3.0->tensorflow) (1.3.0)\n",
      "Requirement already satisfied: pyasn1<0.5.0,>=0.4.6 in c:\\users\\user\\anaconda3\\lib\\site-packages (from pyasn1-modules>=0.2.1->google-auth<3,>=1.6.3->tensorboard<3,>=2.3.0->tensorflow) (0.4.8)\n",
      "Requirement already satisfied: urllib3<1.27,>=1.21.1 in c:\\users\\user\\anaconda3\\lib\\site-packages (from requests<3,>=2.21.0->tensorboard<3,>=2.3.0->tensorflow) (1.26.4)\n",
      "Requirement already satisfied: idna<3,>=2.5 in c:\\users\\user\\anaconda3\\lib\\site-packages (from requests<3,>=2.21.0->tensorboard<3,>=2.3.0->tensorflow) (2.10)\n",
      "Requirement already satisfied: chardet<5,>=3.0.2 in c:\\users\\user\\anaconda3\\lib\\site-packages (from requests<3,>=2.21.0->tensorboard<3,>=2.3.0->tensorflow) (4.0.0)\n",
      "Requirement already satisfied: certifi>=2017.4.17 in c:\\users\\user\\anaconda3\\lib\\site-packages (from requests<3,>=2.21.0->tensorboard<3,>=2.3.0->tensorflow) (2020.12.5)\n",
      "Requirement already satisfied: oauthlib>=3.0.0 in c:\\users\\user\\anaconda3\\lib\\site-packages (from requests-oauthlib>=0.7.0->google-auth-oauthlib<0.5,>=0.4.1->tensorboard<3,>=2.3.0->tensorflow) (3.1.1)\n",
      "Note: you may need to restart the kernel to use updated packages.\n"
     ]
    }
   ],
   "source": [
    "pip install tensorflow"
   ]
  },
  {
   "cell_type": "code",
   "execution_count": 3,
   "id": "5fa9824b",
   "metadata": {},
   "outputs": [],
   "source": [
    "import numpy\n",
    "import matplotlib.pyplot as plt\n",
    "from pandas import read_csv\n",
    "import math"
   ]
  },
  {
   "cell_type": "code",
   "execution_count": 4,
   "id": "45633de8",
   "metadata": {},
   "outputs": [],
   "source": [
    "from tensorflow.keras.models import Sequential\n",
    "from tensorflow.keras.layers import Dense\n",
    "from tensorflow.keras.layers import LSTM\n"
   ]
  },
  {
   "cell_type": "code",
   "execution_count": 5,
   "id": "425cc59e",
   "metadata": {},
   "outputs": [],
   "source": [
    "from sklearn.preprocessing import MinMaxScaler\n",
    "from sklearn.metrics import mean_squared_error"
   ]
  },
  {
   "cell_type": "code",
   "execution_count": 6,
   "id": "169521a8",
   "metadata": {},
   "outputs": [],
   "source": [
    "# convert an array of values into a dataset matrix\n",
    "def create_dataset(dataset, look_back=1):\n",
    "\tdataX, dataY = [], []\n",
    "\tfor i in range(len(dataset)-look_back-1):\n",
    "\t\ta = dataset[i:(i+look_back), 0]\n",
    "\t\tdataX.append(a)\n",
    "\t\tdataY.append(dataset[i + look_back, 0])\n",
    "\treturn numpy.array(dataX), numpy.array(dataY)"
   ]
  },
  {
   "cell_type": "code",
   "execution_count": 7,
   "id": "f1b48757",
   "metadata": {},
   "outputs": [],
   "source": [
    "# fix random seed for reproducibility\n",
    "numpy.random.seed(4)\n",
    "# load the dataset\n",
    "dataframe = read_csv('Result .csv', usecols=[1], engine='python')\n",
    "dataset = dataframe.values\n",
    "dataset = dataset.astype('float32')"
   ]
  },
  {
   "cell_type": "code",
   "execution_count": 8,
   "id": "dd40e4da",
   "metadata": {},
   "outputs": [],
   "source": [
    "# normalize the dataset\n",
    "scaler = MinMaxScaler(feature_range=(0, 1))\n",
    "dataset = scaler.fit_transform(dataset)"
   ]
  },
  {
   "cell_type": "code",
   "execution_count": 9,
   "id": "742ecf5c",
   "metadata": {},
   "outputs": [],
   "source": [
    "# split into train and test sets\n",
    "train_size = int(len(dataset) * 0.70)\n",
    "test_size = len(dataset) - train_size\n",
    "train, test = dataset[0:train_size,:], dataset[train_size:len(dataset),:]"
   ]
  },
  {
   "cell_type": "code",
   "execution_count": 10,
   "id": "a6be68d5",
   "metadata": {},
   "outputs": [],
   "source": [
    "# reshape into X=t and Y=t+1\n",
    "look_back = 1\n",
    "trainX, trainY = create_dataset(train, look_back)\n",
    "testX, testY = create_dataset(test, look_back)"
   ]
  },
  {
   "cell_type": "code",
   "execution_count": 11,
   "id": "4f23ab8b",
   "metadata": {},
   "outputs": [],
   "source": [
    "# reshape input to be [samples, time steps, features]\n",
    "trainX = numpy.reshape(trainX, (trainX.shape[0], 1, trainX.shape[1]))\n",
    "testX = numpy.reshape(testX, (testX.shape[0], 1, testX.shape[1]))"
   ]
  },
  {
   "cell_type": "code",
   "execution_count": 12,
   "id": "8cadd08d",
   "metadata": {},
   "outputs": [
    {
     "name": "stdout",
     "output_type": "stream",
     "text": [
      "Epoch 1/100\n",
      "2/2 - 0s - loss: 0.0000e+00\n",
      "Epoch 2/100\n",
      "2/2 - 0s - loss: 0.0000e+00\n",
      "Epoch 3/100\n",
      "2/2 - 0s - loss: 0.0000e+00\n",
      "Epoch 4/100\n",
      "2/2 - 0s - loss: 0.0000e+00\n",
      "Epoch 5/100\n",
      "2/2 - 0s - loss: 0.0000e+00\n",
      "Epoch 6/100\n",
      "2/2 - 0s - loss: 0.0000e+00\n",
      "Epoch 7/100\n",
      "2/2 - 0s - loss: 0.0000e+00\n",
      "Epoch 8/100\n",
      "2/2 - 0s - loss: 0.0000e+00\n",
      "Epoch 9/100\n",
      "2/2 - 0s - loss: 0.0000e+00\n",
      "Epoch 10/100\n",
      "2/2 - 0s - loss: 0.0000e+00\n",
      "Epoch 11/100\n",
      "2/2 - 0s - loss: 0.0000e+00\n",
      "Epoch 12/100\n",
      "2/2 - 0s - loss: 0.0000e+00\n",
      "Epoch 13/100\n",
      "2/2 - 0s - loss: 0.0000e+00\n",
      "Epoch 14/100\n",
      "2/2 - 0s - loss: 0.0000e+00\n",
      "Epoch 15/100\n",
      "2/2 - 0s - loss: 0.0000e+00\n",
      "Epoch 16/100\n",
      "2/2 - 0s - loss: 0.0000e+00\n",
      "Epoch 17/100\n",
      "2/2 - 0s - loss: 0.0000e+00\n",
      "Epoch 18/100\n",
      "2/2 - 0s - loss: 0.0000e+00\n",
      "Epoch 19/100\n",
      "2/2 - 0s - loss: 0.0000e+00\n",
      "Epoch 20/100\n",
      "2/2 - 0s - loss: 0.0000e+00\n",
      "Epoch 21/100\n",
      "2/2 - 0s - loss: 0.0000e+00\n",
      "Epoch 22/100\n",
      "2/2 - 0s - loss: 0.0000e+00\n",
      "Epoch 23/100\n",
      "2/2 - 0s - loss: 0.0000e+00\n",
      "Epoch 24/100\n",
      "2/2 - 0s - loss: 0.0000e+00\n",
      "Epoch 25/100\n",
      "2/2 - 0s - loss: 0.0000e+00\n",
      "Epoch 26/100\n",
      "2/2 - 0s - loss: 0.0000e+00\n",
      "Epoch 27/100\n",
      "2/2 - 0s - loss: 0.0000e+00\n",
      "Epoch 28/100\n",
      "2/2 - 0s - loss: 0.0000e+00\n",
      "Epoch 29/100\n",
      "2/2 - 0s - loss: 0.0000e+00\n",
      "Epoch 30/100\n",
      "2/2 - 0s - loss: 0.0000e+00\n",
      "Epoch 31/100\n",
      "2/2 - 0s - loss: 0.0000e+00\n",
      "Epoch 32/100\n",
      "2/2 - 0s - loss: 0.0000e+00\n",
      "Epoch 33/100\n",
      "2/2 - 0s - loss: 0.0000e+00\n",
      "Epoch 34/100\n",
      "2/2 - 0s - loss: 0.0000e+00\n",
      "Epoch 35/100\n",
      "2/2 - 0s - loss: 0.0000e+00\n",
      "Epoch 36/100\n",
      "2/2 - 0s - loss: 0.0000e+00\n",
      "Epoch 37/100\n",
      "2/2 - 0s - loss: 0.0000e+00\n",
      "Epoch 38/100\n",
      "2/2 - 0s - loss: 0.0000e+00\n",
      "Epoch 39/100\n",
      "2/2 - 0s - loss: 0.0000e+00\n",
      "Epoch 40/100\n",
      "2/2 - 0s - loss: 0.0000e+00\n",
      "Epoch 41/100\n",
      "2/2 - 0s - loss: 0.0000e+00\n",
      "Epoch 42/100\n",
      "2/2 - 0s - loss: 0.0000e+00\n",
      "Epoch 43/100\n",
      "2/2 - 0s - loss: 0.0000e+00\n",
      "Epoch 44/100\n",
      "2/2 - 0s - loss: 0.0000e+00\n",
      "Epoch 45/100\n",
      "2/2 - 0s - loss: 0.0000e+00\n",
      "Epoch 46/100\n",
      "2/2 - 0s - loss: 0.0000e+00\n",
      "Epoch 47/100\n",
      "2/2 - 0s - loss: 0.0000e+00\n",
      "Epoch 48/100\n",
      "2/2 - 0s - loss: 0.0000e+00\n",
      "Epoch 49/100\n",
      "2/2 - 0s - loss: 0.0000e+00\n",
      "Epoch 50/100\n",
      "2/2 - 0s - loss: 0.0000e+00\n",
      "Epoch 51/100\n",
      "2/2 - 0s - loss: 0.0000e+00\n",
      "Epoch 52/100\n",
      "2/2 - 0s - loss: 0.0000e+00\n",
      "Epoch 53/100\n",
      "2/2 - 0s - loss: 0.0000e+00\n",
      "Epoch 54/100\n",
      "2/2 - 0s - loss: 0.0000e+00\n",
      "Epoch 55/100\n",
      "2/2 - 0s - loss: 0.0000e+00\n",
      "Epoch 56/100\n",
      "2/2 - 0s - loss: 0.0000e+00\n",
      "Epoch 57/100\n",
      "2/2 - 0s - loss: 0.0000e+00\n",
      "Epoch 58/100\n",
      "2/2 - 0s - loss: 0.0000e+00\n",
      "Epoch 59/100\n",
      "2/2 - 0s - loss: 0.0000e+00\n",
      "Epoch 60/100\n",
      "2/2 - 0s - loss: 0.0000e+00\n",
      "Epoch 61/100\n",
      "2/2 - 0s - loss: 0.0000e+00\n",
      "Epoch 62/100\n",
      "2/2 - 0s - loss: 0.0000e+00\n",
      "Epoch 63/100\n",
      "2/2 - 0s - loss: 0.0000e+00\n",
      "Epoch 64/100\n",
      "2/2 - 0s - loss: 0.0000e+00\n",
      "Epoch 65/100\n",
      "2/2 - 0s - loss: 0.0000e+00\n",
      "Epoch 66/100\n",
      "2/2 - 0s - loss: 0.0000e+00\n",
      "Epoch 67/100\n",
      "2/2 - 0s - loss: 0.0000e+00\n",
      "Epoch 68/100\n",
      "2/2 - 0s - loss: 0.0000e+00\n",
      "Epoch 69/100\n",
      "2/2 - 0s - loss: 0.0000e+00\n",
      "Epoch 70/100\n",
      "2/2 - 0s - loss: 0.0000e+00\n",
      "Epoch 71/100\n",
      "2/2 - 0s - loss: 0.0000e+00\n",
      "Epoch 72/100\n",
      "2/2 - 0s - loss: 0.0000e+00\n",
      "Epoch 73/100\n",
      "2/2 - 0s - loss: 0.0000e+00\n",
      "Epoch 74/100\n",
      "2/2 - 0s - loss: 0.0000e+00\n",
      "Epoch 75/100\n",
      "2/2 - 0s - loss: 0.0000e+00\n",
      "Epoch 76/100\n",
      "2/2 - 0s - loss: 0.0000e+00\n",
      "Epoch 77/100\n",
      "2/2 - 0s - loss: 0.0000e+00\n",
      "Epoch 78/100\n",
      "2/2 - 0s - loss: 0.0000e+00\n",
      "Epoch 79/100\n",
      "2/2 - 0s - loss: 0.0000e+00\n",
      "Epoch 80/100\n",
      "2/2 - 0s - loss: 0.0000e+00\n",
      "Epoch 81/100\n",
      "2/2 - 0s - loss: 0.0000e+00\n",
      "Epoch 82/100\n",
      "2/2 - 0s - loss: 0.0000e+00\n",
      "Epoch 83/100\n",
      "2/2 - 0s - loss: 0.0000e+00\n",
      "Epoch 84/100\n",
      "2/2 - 0s - loss: 0.0000e+00\n",
      "Epoch 85/100\n",
      "2/2 - 0s - loss: 0.0000e+00\n",
      "Epoch 86/100\n",
      "2/2 - 0s - loss: 0.0000e+00\n",
      "Epoch 87/100\n",
      "2/2 - 0s - loss: 0.0000e+00\n",
      "Epoch 88/100\n",
      "2/2 - 0s - loss: 0.0000e+00\n",
      "Epoch 89/100\n",
      "2/2 - 0s - loss: 0.0000e+00\n",
      "Epoch 90/100\n",
      "2/2 - 0s - loss: 0.0000e+00\n",
      "Epoch 91/100\n",
      "2/2 - 0s - loss: 0.0000e+00\n",
      "Epoch 92/100\n",
      "2/2 - 0s - loss: 0.0000e+00\n",
      "Epoch 93/100\n",
      "2/2 - 0s - loss: 0.0000e+00\n",
      "Epoch 94/100\n",
      "2/2 - 0s - loss: 0.0000e+00\n",
      "Epoch 95/100\n",
      "2/2 - 0s - loss: 0.0000e+00\n",
      "Epoch 96/100\n",
      "2/2 - 0s - loss: 0.0000e+00\n",
      "Epoch 97/100\n",
      "2/2 - 0s - loss: 0.0000e+00\n",
      "Epoch 98/100\n",
      "2/2 - 0s - loss: 0.0000e+00\n",
      "Epoch 99/100\n",
      "2/2 - 0s - loss: 0.0000e+00\n",
      "Epoch 100/100\n",
      "2/2 - 0s - loss: 0.0000e+00\n"
     ]
    },
    {
     "data": {
      "text/plain": [
       "<tensorflow.python.keras.callbacks.History at 0x1f55699cee0>"
      ]
     },
     "execution_count": 12,
     "metadata": {},
     "output_type": "execute_result"
    }
   ],
   "source": [
    "# create and fit the LSTM network\n",
    "model = Sequential()\n",
    "model.add(LSTM(1, input_shape=(1, look_back)))\n",
    "model.add(Dense(1))\n",
    "model.compile(loss='mean_squared_error', optimizer='adam')\n",
    "model.fit(trainX, trainY, epochs=100, batch_size=1, verbose=2)"
   ]
  },
  {
   "cell_type": "code",
   "execution_count": 13,
   "id": "db847399",
   "metadata": {},
   "outputs": [],
   "source": [
    "# make predictions\n",
    "trainPredict = model.predict(trainX)\n",
    "testPredict = model.predict(testX)"
   ]
  },
  {
   "cell_type": "code",
   "execution_count": 14,
   "id": "e2fa6751",
   "metadata": {},
   "outputs": [],
   "source": [
    "# invert predictions\n",
    "trainPredict = scaler.inverse_transform(trainPredict)\n",
    "trainY = scaler.inverse_transform([trainY])\n",
    "testPredict = scaler.inverse_transform(testPredict)\n",
    "testY = scaler.inverse_transform([testY])"
   ]
  },
  {
   "cell_type": "code",
   "execution_count": 15,
   "id": "4ef7be6e",
   "metadata": {},
   "outputs": [
    {
     "name": "stdout",
     "output_type": "stream",
     "text": [
      "Train Score: 0.00 RMSE\n",
      "Test Score: 1.00 RMSE\n"
     ]
    }
   ],
   "source": [
    "# calculate root mean squared error\n",
    "trainScore = math.sqrt(mean_squared_error(trainY[0], trainPredict[:,0]))\n",
    "print('Train Score: %.2f RMSE' % (trainScore))\n",
    "testScore = math.sqrt(mean_squared_error(testY[0], testPredict[:,0]))\n",
    "print('Test Score: %.2f RMSE' % (testScore))"
   ]
  },
  {
   "cell_type": "code",
   "execution_count": 16,
   "id": "bb2e9657",
   "metadata": {},
   "outputs": [],
   "source": [
    "# shift train predictions for plotting\n",
    "trainPredictPlot = numpy.empty_like(dataset)\n",
    "trainPredictPlot[:, :] = numpy.nan\n",
    "trainPredictPlot[look_back:len(trainPredict)+look_back, :] = trainPredict"
   ]
  },
  {
   "cell_type": "code",
   "execution_count": 17,
   "id": "f5c2c96a",
   "metadata": {},
   "outputs": [],
   "source": [
    "# shift test predictions for plotting\n",
    "testPredictPlot = numpy.empty_like(dataset)\n",
    "testPredictPlot[:, :] = numpy.nan\n",
    "testPredictPlot[len(trainPredict)+(look_back*2)+1:len(dataset)-1, :] = testPredict"
   ]
  },
  {
   "cell_type": "code",
   "execution_count": 18,
   "id": "93959ea6",
   "metadata": {},
   "outputs": [
    {
     "data": {
      "image/png": "[encoded data removed]",
      "text/plain": [
       "<Figure size 432x288 with 1 Axes>"
      ]
     },
     "metadata": {
      "needs_background": "light"
     },
     "output_type": "display_data"
    }
   ],
   "source": [
    "# plot baseline and predictions\n",
    "plt.plot(scaler.inverse_transform(dataset))\n",
    "plt.plot(trainPredictPlot)\n",
    "plt.plot(testPredictPlot)\n",
    "plt.show()"
   ]
  }
 ],
 "metadata": {
  "kernelspec": {
   "display_name": "Python 3",
   "language": "python",
   "name": "python3"
  },
  "language_info": {
   "codemirror_mode": {
    "name": "ipython",
    "version": 3
   },
   "file_extension": ".py",
   "mimetype": "text/x-python",
   "name": "python",
   "nbconvert_exporter": "python",
   "pygments_lexer": "ipython3",
   "version": "3.8.8"
  }
 },
 "nbformat": 4,
 "nbformat_minor": 5
}
